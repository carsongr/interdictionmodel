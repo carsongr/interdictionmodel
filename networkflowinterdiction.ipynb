{
  "nbformat": 4,
  "nbformat_minor": 0,
  "metadata": {
    "colab": {
      "provenance": []
    },
    "kernelspec": {
      "name": "python3",
      "display_name": "Python 3"
    },
    "language_info": {
      "name": "python"
    }
  },
  "cells": [
    {
      "cell_type": "code",
      "source": [
        "\n",
        "!pip install -q condacolab\n",
        "import condacolab\n",
        "condacolab.install()\n",
        "\n",
        "!conda install -c conda-forge glpk\n",
        "\n",
        "!pip install pyomo\n",
        "\n"
      ],
      "metadata": {
        "colab": {
          "base_uri": "https://localhost:8080/"
        },
        "id": "8JA-Hi9LFqxk",
        "outputId": "4e236ddc-79d5-4715-ade8-4d86d8c5f3bb"
      },
      "execution_count": null,
      "outputs": [
        {
          "output_type": "stream",
          "name": "stdout",
          "text": [
            "⏬ Downloading https://github.com/conda-forge/miniforge/releases/download/23.1.0-1/Mambaforge-23.1.0-1-Linux-x86_64.sh...\n",
            "📦 Installing...\n",
            "📌 Adjusting configuration...\n",
            "🩹 Patching environment...\n",
            "⏲ Done in 0:00:17\n",
            "🔁 Restarting kernel...\n",
            "Collecting package metadata (current_repodata.json): - \b\b\\ \b\b| \b\b/ \b\b- \b\b\\ \b\b| \b\b/ \b\b- \b\b\\ \b\b| \b\b/ \b\b- \b\b\\ \b\b| \b\b/ \b\b- \b\b\\ \b\b| \b\b/ \b\b- \b\b\\ \b\b| \b\b/ \b\b- \b\b\\ \b\b| \b\b/ \b\b- \b\b\\ \b\b| \b\b/ \b\b- \b\b\\ \b\b| \b\b/ \b\b- \b\b\\ \b\b| \b\b/ \b\b- \b\b\\ \b\b| \b\b/ \b\b- \b\b\\ \b\b| \b\b/ \b\b- \b\b\\ \b\b| \b\b/ \b\b- \b\b\\ \b\b| \b\b/ \b\b- \b\b\\ \b\b| \b\b/ \b\b- \b\b\\ \b\b| \b\b/ \b\b- \b\b\\ \b\b| \b\b/ \b\b- \b\b\\ \b\b| \b\b/ \b\b- \b\b\\ \b\b| \b\b/ \b\b- \b\b\\ \b\b| \b\b/ \b\b- \b\b\\ \b\b| \b\b/ \b\b- \b\b\\ \b\b| \b\b/ \b\b- \b\b\\ \b\b| \b\b/ \b\b- \b\b\\ \b\b| \b\b/ \b\b- \b\b\\ \b\b| \b\b/ \b\b- \b\b\\ \b\b| \b\b/ \b\b- \b\b\\ \b\b| \b\b/ \b\b- \b\b\\ \b\b| \b\b/ \b\b- \b\b\\ \b\b| \b\b/ \b\b- \b\b\\ \b\b| \b\b/ \b\b- \b\b\\ \b\b| \b\b/ \b\b- \b\b\\ \b\b| \b\b/ \b\b- \b\b\\ \b\b| \b\b/ \b\b- \b\b\\ \b\b| \b\b/ \b\b- \b\b\\ \b\b| \b\b/ \b\b- \b\b\\ \b\b| \b\b/ \b\b- \b\b\\ \b\b| \b\b/ \b\b- \b\b\\ \b\b| \b\b/ \b\b- \b\b\\ \b\b| \b\b/ \b\b- \b\b\\ \b\b| \b\b/ \b\b- \b\b\\ \b\b| \b\b/ \b\b- \b\b\\ \b\b| \b\b/ \b\b- \b\b\\ \b\b| \b\b/ \b\b- \b\b\\ \b\b| \b\b/ \b\b- \b\bdone\n",
            "Solving environment: | \b\b/ \b\b- \b\b\\ \b\b| \b\b/ \b\b- \b\b\\ \b\b| \b\b/ \b\b- \b\b\\ \b\bdone\n",
            "\n",
            "\n",
            "==> WARNING: A newer version of conda exists. <==\n",
            "  current version: 23.1.0\n",
            "  latest version: 23.7.4\n",
            "\n",
            "Please update conda by running\n",
            "\n",
            "    $ conda update -n base -c conda-forge conda\n",
            "\n",
            "Or to minimize the number of packages updated during conda update use\n",
            "\n",
            "     conda install conda=23.7.4\n",
            "\n",
            "\n",
            "\n",
            "## Package Plan ##\n",
            "\n",
            "  environment location: /usr/local\n",
            "\n",
            "  added / updated specs:\n",
            "    - glpk\n",
            "\n",
            "\n",
            "The following packages will be downloaded:\n",
            "\n",
            "    package                    |            build\n",
            "    ---------------------------|-----------------\n",
            "    ca-certificates-2023.7.22  |       hbcca054_0         146 KB  conda-forge\n",
            "    certifi-2023.7.22          |     pyhd8ed1ab_0         150 KB  conda-forge\n",
            "    glpk-5.0                   |       h445213a_0        1023 KB  conda-forge\n",
            "    gmp-6.2.1                  |       h58526e2_0         806 KB  conda-forge\n",
            "    openssl-3.1.3              |       hd590300_0         2.5 MB  conda-forge\n",
            "    ------------------------------------------------------------\n",
            "                                           Total:         4.6 MB\n",
            "\n",
            "The following NEW packages will be INSTALLED:\n",
            "\n",
            "  glpk               conda-forge/linux-64::glpk-5.0-h445213a_0 \n",
            "  gmp                conda-forge/linux-64::gmp-6.2.1-h58526e2_0 \n",
            "\n",
            "The following packages will be UPDATED:\n",
            "\n",
            "  ca-certificates                      2022.12.7-ha878542_0 --> 2023.7.22-hbcca054_0 \n",
            "  certifi                            2022.12.7-pyhd8ed1ab_0 --> 2023.7.22-pyhd8ed1ab_0 \n",
            "  openssl                                  3.1.0-h0b41bf4_0 --> 3.1.3-hd590300_0 \n",
            "\n",
            "\n",
            "\n",
            "Downloading and Extracting Packages\n",
            "certifi-2023.7.22    | 150 KB    | :   0% 0/1 [00:00<?, ?it/s]\n",
            "ca-certificates-2023 | 146 KB    | :   0% 0/1 [00:00<?, ?it/s]\u001b[A\n",
            "\n",
            "gmp-6.2.1            | 806 KB    | :   0% 0/1 [00:00<?, ?it/s]\u001b[A\u001b[A\n",
            "\n",
            "\n",
            "openssl-3.1.3        | 2.5 MB    | :   0% 0/1 [00:00<?, ?it/s]\u001b[A\u001b[A\u001b[A\n",
            "\n",
            "\n",
            "\n",
            "certifi-2023.7.22    | 150 KB    | :  11% 0.10653419250801412/1 [00:00<00:01,  1.31s/it]\n",
            "ca-certificates-2023 | 146 KB    | :  11% 0.10958097849714075/1 [00:00<00:01,  1.37s/it]\u001b[A\n",
            "\n",
            "gmp-6.2.1            | 806 KB    | :   2% 0.019840539414665338/1 [00:00<00:07,  7.44s/it]\u001b[A\u001b[A\n",
            "\n",
            "\n",
            "openssl-3.1.3        | 2.5 MB    | :   1% 0.006199368106400287/1 [00:00<00:26, 27.17s/it]\u001b[A\u001b[A\u001b[A\n",
            "\n",
            "\n",
            "\n",
            "certifi-2023.7.22    | 150 KB    | : 100% 1.0/1 [00:00<00:00,  1.31s/it]                \n",
            "ca-certificates-2023 | 146 KB    | : 100% 1.0/1 [00:00<00:00,  1.37s/it]                \u001b[A\n",
            "\n",
            "\n",
            "openssl-3.1.3        | 2.5 MB    | :  71% 0.7129273322360331/1 [00:00<00:00,  3.26it/s]  \u001b[A\u001b[A\u001b[A\n",
            "\n",
            "gmp-6.2.1            | 806 KB    | : 100% 1.0/1 [00:00<00:00,  2.31it/s]                 \u001b[A\u001b[A\n",
            "\n",
            "gmp-6.2.1            | 806 KB    | : 100% 1.0/1 [00:00<00:00,  2.31it/s]\u001b[A\u001b[A\n",
            "\n",
            "\n",
            "\n",
            "glpk-5.0             | 1023 KB   | : 100% 1.0/1 [00:00<00:00,  1.97it/s]                \u001b[A\u001b[A\u001b[A\u001b[A\n",
            "\n",
            "\n",
            "\n",
            "glpk-5.0             | 1023 KB   | : 100% 1.0/1 [00:00<00:00,  1.97it/s]\u001b[A\u001b[A\u001b[A\u001b[A\n",
            "\n",
            "\n",
            "                                                                        \n",
            "                                                                        \u001b[A\n",
            "\n",
            "                                                                        \u001b[A\u001b[A\n",
            "\n",
            "\n",
            "                                                                        \u001b[A\u001b[A\u001b[A\n",
            "\n",
            "\n",
            "\n",
            "                                                                        \u001b[A\u001b[A\u001b[A\u001b[A\n",
            "Preparing transaction: / \b\bdone\n",
            "Verifying transaction: \\ \b\b| \b\bdone\n",
            "Executing transaction: - \b\b\\ \b\b| \b\b/ \b\b- \b\b\\ \b\b| \b\b/ \b\b- \b\b\\ \b\b| \b\b/ \b\b- \b\b\\ \b\b| \b\b/ \b\b- \b\b\\ \b\b| \b\bdone\n",
            "Collecting pyomo\n",
            "  Downloading Pyomo-6.6.2-cp310-cp310-manylinux_2_17_x86_64.manylinux2014_x86_64.whl (12.7 MB)\n",
            "\u001b[2K     \u001b[90m━━━━━━━━━━━━━━━━━━━━━━━━━━━━━━━━━━━━━━━━\u001b[0m \u001b[32m12.7/12.7 MB\u001b[0m \u001b[31m41.4 MB/s\u001b[0m eta \u001b[36m0:00:00\u001b[0m\n",
            "\u001b[?25hCollecting ply\n",
            "  Downloading ply-3.11-py2.py3-none-any.whl (49 kB)\n",
            "\u001b[2K     \u001b[90m━━━━━━━━━━━━━━━━━━━━━━━━━━━━━━━━━━━━━━━━\u001b[0m \u001b[32m49.6/49.6 kB\u001b[0m \u001b[31m5.2 MB/s\u001b[0m eta \u001b[36m0:00:00\u001b[0m\n",
            "\u001b[?25hInstalling collected packages: ply, pyomo\n",
            "Successfully installed ply-3.11 pyomo-6.6.2\n",
            "\u001b[33mWARNING: Running pip as the 'root' user can result in broken permissions and conflicting behaviour with the system package manager. It is recommended to use a virtual environment instead: https://pip.pypa.io/warnings/venv\u001b[0m\u001b[33m\n",
            "\u001b[0m"
          ]
        }
      ]
    },
    {
      "cell_type": "code",
      "execution_count": null,
      "metadata": {
        "id": "2SpX_xT9DbDF"
      },
      "outputs": [],
      "source": [
        "from pyomo.environ import *"
      ]
    },
    {
      "cell_type": "markdown",
      "source": [
        "### Code for abstract model"
      ],
      "metadata": {
        "id": "bQGsnxXjHfPD"
      }
    },
    {
      "cell_type": "code",
      "source": [
        "# Create an instance of the model\n",
        "model = AbstractModel()\n",
        "\n",
        "# Nodes in the network\n",
        "model.N = Set()\n",
        "# Network arcs\n",
        "model.A = Set(within=model.N*model.N) #within parameter is a set used for validation (ie network arcs are in model.N*model.N matrix)\n",
        "\n",
        "# Source node\n",
        "model.s = Param(within=model.N)\n",
        "# Sink node\n",
        "model.t = Param(within=model.N)\n",
        "# Flow capacity limits\n",
        "model.u = Param(model.A) #sets up a parameter c that is indexed by model.A\n",
        "# Arc interdiction costs\n",
        "model.c = Param(model.A)\n",
        "# Interdiction budget\n",
        "model.b = Param(default=1)\n",
        "\n",
        "# Decision variable: interdict this arc?\n",
        "model.y = Var(model.A, within=Binary)\n",
        "model.theta = Var(model.A, within=NonNegativeReals)\n",
        "model.pi = Var(model.N, within=NonNegativeReals)\n",
        "\n",
        "# Objective: minimize the capacity of the min cut\n",
        "# Define objective rule\n",
        "def total_rule(model):\n",
        "    return sum((model.u[i,j]*model.theta[i,j]) for (i, j) in model.A)\n",
        "# set objective\n",
        "model.total = Objective(rule=total_rule, sense=minimize)\n",
        "\n",
        "# Constraint\n",
        "def budget_rule(model):\n",
        "    return sum(model.c[i,j]*model.y[i,j] for (i,j) in model.A) <= model.b\n",
        "model.budget = Constraint(rule=budget_rule)\n",
        "\n",
        "# Constraint\n",
        "def rule_one(model, i, j):\n",
        "    if i != value(model.s):\n",
        "        return Constraint.Skip\n",
        "    return model.pi[j] +  model.theta[model.s, j] >= 1 - model.y[model.s, j]\n",
        "model.rule1 = Constraint(model.A, rule=rule_one)\n",
        "\n",
        "# Constraint\n",
        "def rule_two(model, i, j):\n",
        "    if i == value(model.s) or j == value(model.t):\n",
        "        return Constraint.Skip\n",
        "    return model.pi[j] - model.pi[i] + model.theta[i,j] >= -model.y[i,j]\n",
        "model.rule2 = Constraint(model.A, rule=rule_two)\n",
        "\n",
        "# Constraint\n",
        "def rule_three(model, i, j):\n",
        "    if j != value(model.t):\n",
        "        return Constraint.Skip\n",
        "    return -model.pi[i] + model.theta[i,model.t] >= -model.y[i,model.t]\n",
        "model.rule3 = Constraint(model.A, rule=rule_three)\n"
      ],
      "metadata": {
        "id": "s2oxkTM9D8t5"
      },
      "execution_count": null,
      "outputs": []
    },
    {
      "cell_type": "markdown",
      "source": [
        "### Initialize model with data"
      ],
      "metadata": {
        "id": "Qps7fmS3Hp2w"
      }
    },
    {
      "cell_type": "code",
      "source": [
        "data = DataPortal()\n",
        "data.load(filename='maxflow_interdiction.dat', model=model)\n",
        "instance = model.create_instance(data)"
      ],
      "metadata": {
        "id": "ljtLmSp1EVrN"
      },
      "execution_count": null,
      "outputs": []
    },
    {
      "cell_type": "markdown",
      "source": [
        "### Print model"
      ],
      "metadata": {
        "id": "aBXYT1Y6Htl_"
      }
    },
    {
      "cell_type": "code",
      "source": [
        "instance.pprint()"
      ],
      "metadata": {
        "id": "dqx4IZ02FbsH"
      },
      "execution_count": null,
      "outputs": []
    },
    {
      "cell_type": "markdown",
      "source": [
        "### Results"
      ],
      "metadata": {
        "id": "FPXHSqbpHxn7"
      }
    },
    {
      "cell_type": "code",
      "source": [
        "opt = SolverFactory('glpk')\n",
        "opt.solve(instance).write()\n"
      ],
      "metadata": {
        "id": "ue3jZ1vUFf1z"
      },
      "execution_count": null,
      "outputs": []
    },
    {
      "cell_type": "markdown",
      "source": [
        "### Variables"
      ],
      "metadata": {
        "id": "BAzvZxa-ICms"
      }
    },
    {
      "cell_type": "code",
      "source": [
        "instance.y.pprint()\n",
        "instance.theta.pprint()\n",
        "instance.pi.pprint()"
      ],
      "metadata": {
        "id": "oDN9FYG6FmYT"
      },
      "execution_count": null,
      "outputs": []
    },
    {
      "cell_type": "code",
      "source": [
        "min_cut_capacity = 0\n",
        "\n",
        "for (i,j) in instance.A:\n",
        "  min_cut_capacity += (instance.theta[i,j].value * instance.u[i,j])\n",
        "\n",
        "print(\"Interdicted arc(s): \", end=\" \")\n",
        "for (i,j) in instance.A:\n",
        "  if instance.y[i,j].value == 1:\n",
        "    print('(',i,j,')', end=\" \")\n",
        "print()\n",
        "\n",
        "print(\"Max flow after interdiction: \", min_cut_capacity)"
      ],
      "metadata": {
        "id": "Yo6NPzM9y0op"
      },
      "execution_count": null,
      "outputs": []
    }
  ]
}